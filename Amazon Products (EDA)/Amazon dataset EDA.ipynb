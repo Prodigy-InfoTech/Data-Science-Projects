{
 "cells": [
  {
   "cell_type": "markdown",
   "id": "3db438ed",
   "metadata": {},
   "source": [
    "# Exploratory Data Analysis"
   ]
  },
  {
   "cell_type": "markdown",
   "id": "b571a0f0",
   "metadata": {},
   "source": [
    "## Data Cleaning and Preparation"
   ]
  },
  {
   "cell_type": "code",
   "execution_count": 1,
   "id": "795078d6",
   "metadata": {},
   "outputs": [],
   "source": [
    "import pandas as pd\n",
    "import numpy as np\n",
    "import matplotlib.pyplot as plt"
   ]
  },
  {
   "cell_type": "code",
   "execution_count": 2,
   "id": "4edeb806",
   "metadata": {},
   "outputs": [],
   "source": [
    "df = pd.read_csv('Amazon_Products.csv',low_memory=False)"
   ]
  },
  {
   "cell_type": "code",
   "execution_count": 3,
   "id": "6f3ab445",
   "metadata": {},
   "outputs": [
    {
     "data": {
      "text/html": [
       "<div>\n",
       "<style scoped>\n",
       "    .dataframe tbody tr th:only-of-type {\n",
       "        vertical-align: middle;\n",
       "    }\n",
       "\n",
       "    .dataframe tbody tr th {\n",
       "        vertical-align: top;\n",
       "    }\n",
       "\n",
       "    .dataframe thead th {\n",
       "        text-align: right;\n",
       "    }\n",
       "</style>\n",
       "<table border=\"1\" class=\"dataframe\">\n",
       "  <thead>\n",
       "    <tr style=\"text-align: right;\">\n",
       "      <th></th>\n",
       "      <th>uniq_id</th>\n",
       "      <th>product_name</th>\n",
       "      <th>manufacturer</th>\n",
       "      <th>price</th>\n",
       "      <th>number_available_in_stock</th>\n",
       "      <th>number_of_reviews</th>\n",
       "      <th>number_of_answered_questions</th>\n",
       "      <th>average_review_rating</th>\n",
       "      <th>amazon_category_and_sub_category</th>\n",
       "      <th>description</th>\n",
       "      <th>...</th>\n",
       "      <th>Unnamed: 885</th>\n",
       "      <th>Unnamed: 886</th>\n",
       "      <th>Unnamed: 887</th>\n",
       "      <th>Unnamed: 888</th>\n",
       "      <th>Unnamed: 889</th>\n",
       "      <th>Unnamed: 890</th>\n",
       "      <th>Unnamed: 891</th>\n",
       "      <th>Unnamed: 892</th>\n",
       "      <th>Unnamed: 893</th>\n",
       "      <th>Unnamed: 894</th>\n",
       "    </tr>\n",
       "  </thead>\n",
       "  <tbody>\n",
       "    <tr>\n",
       "      <th>0</th>\n",
       "      <td>eac7efa5dbd3d667f26eb3d3ab504464</td>\n",
       "      <td>Hornby 2014 Catalogue</td>\n",
       "      <td>Hornby</td>\n",
       "      <td>£3.42</td>\n",
       "      <td>5 new</td>\n",
       "      <td>15</td>\n",
       "      <td>1</td>\n",
       "      <td>4.9 out of 5 stars</td>\n",
       "      <td>Hobbies &gt; Model Trains &amp; Railway Sets &gt; Rail V...</td>\n",
       "      <td>Product Description Hornby 2014 Catalogue Box ...</td>\n",
       "      <td>...</td>\n",
       "      <td>NaN</td>\n",
       "      <td>NaN</td>\n",
       "      <td>NaN</td>\n",
       "      <td>NaN</td>\n",
       "      <td>NaN</td>\n",
       "      <td>NaN</td>\n",
       "      <td>NaN</td>\n",
       "      <td>NaN</td>\n",
       "      <td>NaN</td>\n",
       "      <td>NaN</td>\n",
       "    </tr>\n",
       "    <tr>\n",
       "      <th>1</th>\n",
       "      <td>b17540ef7e86e461d37f3ae58b7b72ac</td>\n",
       "      <td>FunkyBuys® Large Christmas Holiday Express Fes...</td>\n",
       "      <td>FunkyBuys</td>\n",
       "      <td>£16.99</td>\n",
       "      <td>NaN</td>\n",
       "      <td>2</td>\n",
       "      <td>1</td>\n",
       "      <td>4.5 out of 5 stars</td>\n",
       "      <td>Hobbies &gt; Model Trains &amp; Railway Sets &gt; Rail V...</td>\n",
       "      <td>Size Name:Large FunkyBuys® Large Christmas Hol...</td>\n",
       "      <td>...</td>\n",
       "      <td>NaN</td>\n",
       "      <td>NaN</td>\n",
       "      <td>NaN</td>\n",
       "      <td>NaN</td>\n",
       "      <td>NaN</td>\n",
       "      <td>NaN</td>\n",
       "      <td>NaN</td>\n",
       "      <td>NaN</td>\n",
       "      <td>NaN</td>\n",
       "      <td>NaN</td>\n",
       "    </tr>\n",
       "    <tr>\n",
       "      <th>2</th>\n",
       "      <td>348f344247b0c1a935b1223072ef9d8a</td>\n",
       "      <td>CLASSIC TOY TRAIN SET TRACK CARRIAGES LIGHT EN...</td>\n",
       "      <td>ccf</td>\n",
       "      <td>£9.99</td>\n",
       "      <td>2 new</td>\n",
       "      <td>17</td>\n",
       "      <td>2</td>\n",
       "      <td>3.9 out of 5 stars</td>\n",
       "      <td>Hobbies &gt; Model Trains &amp; Railway Sets &gt; Rail V...</td>\n",
       "      <td>BIG CLASSIC TOY TRAIN SET TRACK CARRIAGE LIGHT...</td>\n",
       "      <td>...</td>\n",
       "      <td>NaN</td>\n",
       "      <td>NaN</td>\n",
       "      <td>NaN</td>\n",
       "      <td>NaN</td>\n",
       "      <td>NaN</td>\n",
       "      <td>NaN</td>\n",
       "      <td>NaN</td>\n",
       "      <td>NaN</td>\n",
       "      <td>NaN</td>\n",
       "      <td>NaN</td>\n",
       "    </tr>\n",
       "    <tr>\n",
       "      <th>3</th>\n",
       "      <td>e12b92dbb8eaee78b22965d2a9bbbd9f</td>\n",
       "      <td>HORNBY Coach R4410A BR Hawksworth Corridor 3rd</td>\n",
       "      <td>Hornby</td>\n",
       "      <td>£39.99</td>\n",
       "      <td>NaN</td>\n",
       "      <td>1</td>\n",
       "      <td>2</td>\n",
       "      <td>5.0 out of 5 stars</td>\n",
       "      <td>Hobbies &gt; Model Trains &amp; Railway Sets &gt; Rail V...</td>\n",
       "      <td>Hornby 00 Gauge BR Hawksworth 3rd Class W 2107...</td>\n",
       "      <td>...</td>\n",
       "      <td>NaN</td>\n",
       "      <td>NaN</td>\n",
       "      <td>NaN</td>\n",
       "      <td>NaN</td>\n",
       "      <td>NaN</td>\n",
       "      <td>NaN</td>\n",
       "      <td>NaN</td>\n",
       "      <td>NaN</td>\n",
       "      <td>NaN</td>\n",
       "      <td>NaN</td>\n",
       "    </tr>\n",
       "    <tr>\n",
       "      <th>4</th>\n",
       "      <td>e33a9adeed5f36840ccc227db4682a36</td>\n",
       "      <td>Hornby 00 Gauge 0-4-0 Gildenlow Salt Co. Steam...</td>\n",
       "      <td>Hornby</td>\n",
       "      <td>£32.19</td>\n",
       "      <td>NaN</td>\n",
       "      <td>3</td>\n",
       "      <td>2</td>\n",
       "      <td>4.7 out of 5 stars</td>\n",
       "      <td>Hobbies &gt; Model Trains &amp; Railway Sets &gt; Rail V...</td>\n",
       "      <td>Product Description Hornby RailRoad 0-4-0 Gild...</td>\n",
       "      <td>...</td>\n",
       "      <td>NaN</td>\n",
       "      <td>NaN</td>\n",
       "      <td>NaN</td>\n",
       "      <td>NaN</td>\n",
       "      <td>NaN</td>\n",
       "      <td>NaN</td>\n",
       "      <td>NaN</td>\n",
       "      <td>NaN</td>\n",
       "      <td>NaN</td>\n",
       "      <td>NaN</td>\n",
       "    </tr>\n",
       "  </tbody>\n",
       "</table>\n",
       "<p>5 rows × 895 columns</p>\n",
       "</div>"
      ],
      "text/plain": [
       "                            uniq_id  \\\n",
       "0  eac7efa5dbd3d667f26eb3d3ab504464   \n",
       "1  b17540ef7e86e461d37f3ae58b7b72ac   \n",
       "2  348f344247b0c1a935b1223072ef9d8a   \n",
       "3  e12b92dbb8eaee78b22965d2a9bbbd9f   \n",
       "4  e33a9adeed5f36840ccc227db4682a36   \n",
       "\n",
       "                                        product_name manufacturer   price  \\\n",
       "0                              Hornby 2014 Catalogue       Hornby   £3.42   \n",
       "1  FunkyBuys® Large Christmas Holiday Express Fes...    FunkyBuys  £16.99   \n",
       "2  CLASSIC TOY TRAIN SET TRACK CARRIAGES LIGHT EN...          ccf   £9.99   \n",
       "3     HORNBY Coach R4410A BR Hawksworth Corridor 3rd       Hornby  £39.99   \n",
       "4  Hornby 00 Gauge 0-4-0 Gildenlow Salt Co. Steam...       Hornby  £32.19   \n",
       "\n",
       "  number_available_in_stock number_of_reviews number_of_answered_questions  \\\n",
       "0                     5 new                15                            1   \n",
       "1                       NaN                 2                            1   \n",
       "2                     2 new                17                            2   \n",
       "3                       NaN                 1                            2   \n",
       "4                       NaN                 3                            2   \n",
       "\n",
       "  average_review_rating                   amazon_category_and_sub_category  \\\n",
       "0    4.9 out of 5 stars  Hobbies > Model Trains & Railway Sets > Rail V...   \n",
       "1    4.5 out of 5 stars  Hobbies > Model Trains & Railway Sets > Rail V...   \n",
       "2    3.9 out of 5 stars  Hobbies > Model Trains & Railway Sets > Rail V...   \n",
       "3    5.0 out of 5 stars  Hobbies > Model Trains & Railway Sets > Rail V...   \n",
       "4    4.7 out of 5 stars  Hobbies > Model Trains & Railway Sets > Rail V...   \n",
       "\n",
       "                                         description  ... Unnamed: 885  \\\n",
       "0  Product Description Hornby 2014 Catalogue Box ...  ...          NaN   \n",
       "1  Size Name:Large FunkyBuys® Large Christmas Hol...  ...          NaN   \n",
       "2  BIG CLASSIC TOY TRAIN SET TRACK CARRIAGE LIGHT...  ...          NaN   \n",
       "3  Hornby 00 Gauge BR Hawksworth 3rd Class W 2107...  ...          NaN   \n",
       "4  Product Description Hornby RailRoad 0-4-0 Gild...  ...          NaN   \n",
       "\n",
       "  Unnamed: 886 Unnamed: 887 Unnamed: 888 Unnamed: 889 Unnamed: 890  \\\n",
       "0          NaN          NaN          NaN          NaN          NaN   \n",
       "1          NaN          NaN          NaN          NaN          NaN   \n",
       "2          NaN          NaN          NaN          NaN          NaN   \n",
       "3          NaN          NaN          NaN          NaN          NaN   \n",
       "4          NaN          NaN          NaN          NaN          NaN   \n",
       "\n",
       "  Unnamed: 891 Unnamed: 892 Unnamed: 893 Unnamed: 894  \n",
       "0          NaN          NaN          NaN          NaN  \n",
       "1          NaN          NaN          NaN          NaN  \n",
       "2          NaN          NaN          NaN          NaN  \n",
       "3          NaN          NaN          NaN          NaN  \n",
       "4          NaN          NaN          NaN          NaN  \n",
       "\n",
       "[5 rows x 895 columns]"
      ]
     },
     "execution_count": 3,
     "metadata": {},
     "output_type": "execute_result"
    }
   ],
   "source": [
    "df.head()"
   ]
  },
  {
   "cell_type": "code",
   "execution_count": 4,
   "id": "686c4215",
   "metadata": {},
   "outputs": [
    {
     "data": {
      "text/html": [
       "<div>\n",
       "<style scoped>\n",
       "    .dataframe tbody tr th:only-of-type {\n",
       "        vertical-align: middle;\n",
       "    }\n",
       "\n",
       "    .dataframe tbody tr th {\n",
       "        vertical-align: top;\n",
       "    }\n",
       "\n",
       "    .dataframe thead th {\n",
       "        text-align: right;\n",
       "    }\n",
       "</style>\n",
       "<table border=\"1\" class=\"dataframe\">\n",
       "  <thead>\n",
       "    <tr style=\"text-align: right;\">\n",
       "      <th></th>\n",
       "      <th>uniq_id</th>\n",
       "      <th>product_name</th>\n",
       "      <th>manufacturer</th>\n",
       "      <th>price</th>\n",
       "      <th>number_available_in_stock</th>\n",
       "      <th>number_of_reviews</th>\n",
       "      <th>number_of_answered_questions</th>\n",
       "      <th>average_review_rating</th>\n",
       "      <th>amazon_category_and_sub_category</th>\n",
       "      <th>description</th>\n",
       "      <th>...</th>\n",
       "      <th>Unnamed: 885</th>\n",
       "      <th>Unnamed: 886</th>\n",
       "      <th>Unnamed: 887</th>\n",
       "      <th>Unnamed: 888</th>\n",
       "      <th>Unnamed: 889</th>\n",
       "      <th>Unnamed: 890</th>\n",
       "      <th>Unnamed: 891</th>\n",
       "      <th>Unnamed: 892</th>\n",
       "      <th>Unnamed: 893</th>\n",
       "      <th>Unnamed: 894</th>\n",
       "    </tr>\n",
       "  </thead>\n",
       "  <tbody>\n",
       "    <tr>\n",
       "      <th>9999</th>\n",
       "      <td>44d6967f083825a5de36ad4865a65bcd</td>\n",
       "      <td>Batman 1966 TV Series Action Figures - The Rid...</td>\n",
       "      <td>Mattel</td>\n",
       "      <td>£22.95</td>\n",
       "      <td>5 new</td>\n",
       "      <td>3</td>\n",
       "      <td>3</td>\n",
       "      <td>5.0 out of 5 stars</td>\n",
       "      <td>Hobbies &gt; Collectible Figures &amp; Memorabilia &gt; ...</td>\n",
       "      <td>DC 66 Batman Classic TV Series 6 Inch Riddler ...</td>\n",
       "      <td>...</td>\n",
       "      <td>NaN</td>\n",
       "      <td>NaN</td>\n",
       "      <td>NaN</td>\n",
       "      <td>NaN</td>\n",
       "      <td>NaN</td>\n",
       "      <td>NaN</td>\n",
       "      <td>NaN</td>\n",
       "      <td>NaN</td>\n",
       "      <td>NaN</td>\n",
       "      <td>NaN</td>\n",
       "    </tr>\n",
       "    <tr>\n",
       "      <th>10000</th>\n",
       "      <td>08f0747b6fc6687215ffb994c3a6fb32</td>\n",
       "      <td>Star Wars Costume, Kids Stormtrooper Costume S...</td>\n",
       "      <td>Star Wars</td>\n",
       "      <td>£39.99</td>\n",
       "      <td>NaN</td>\n",
       "      <td>1</td>\n",
       "      <td>3</td>\n",
       "      <td>4.0 out of 5 stars</td>\n",
       "      <td>Characters &amp; Brands &gt; Star Wars &gt; Toys</td>\n",
       "      <td>NaN</td>\n",
       "      <td>...</td>\n",
       "      <td>NaN</td>\n",
       "      <td>NaN</td>\n",
       "      <td>NaN</td>\n",
       "      <td>NaN</td>\n",
       "      <td>NaN</td>\n",
       "      <td>NaN</td>\n",
       "      <td>NaN</td>\n",
       "      <td>NaN</td>\n",
       "      <td>NaN</td>\n",
       "      <td>NaN</td>\n",
       "    </tr>\n",
       "    <tr>\n",
       "      <th>10001</th>\n",
       "      <td>bf6cc073f8f24e6e338190fa16f6ee9d</td>\n",
       "      <td>Defiance Lawkeeper Metal Badge Prop Replica</td>\n",
       "      <td>Olde Scotland Yard Ltd.</td>\n",
       "      <td>£43.99</td>\n",
       "      <td>3 new</td>\n",
       "      <td>1</td>\n",
       "      <td>3</td>\n",
       "      <td>5.0 out of 5 stars</td>\n",
       "      <td>Novelty &amp; Special Use &gt; Novelty &gt; Accessories ...</td>\n",
       "      <td>*Includes 1x Badge with holder and chain *High...</td>\n",
       "      <td>...</td>\n",
       "      <td>NaN</td>\n",
       "      <td>NaN</td>\n",
       "      <td>NaN</td>\n",
       "      <td>NaN</td>\n",
       "      <td>NaN</td>\n",
       "      <td>NaN</td>\n",
       "      <td>NaN</td>\n",
       "      <td>NaN</td>\n",
       "      <td>NaN</td>\n",
       "      <td>NaN</td>\n",
       "    </tr>\n",
       "    <tr>\n",
       "      <th>10002</th>\n",
       "      <td>cd783d0b8b44e631b9788b203eaaefae</td>\n",
       "      <td>Justice League of America Series 3 Green Lante...</td>\n",
       "      <td>DC Comics</td>\n",
       "      <td>£49.81</td>\n",
       "      <td>3 new</td>\n",
       "      <td>1</td>\n",
       "      <td>3</td>\n",
       "      <td>5.0 out of 5 stars</td>\n",
       "      <td>Hobbies &gt; Collectible Figures &amp; Memorabilia &gt; ...</td>\n",
       "      <td>Designed by Ed BenesIt's here - the third seri...</td>\n",
       "      <td>...</td>\n",
       "      <td>NaN</td>\n",
       "      <td>NaN</td>\n",
       "      <td>NaN</td>\n",
       "      <td>NaN</td>\n",
       "      <td>NaN</td>\n",
       "      <td>NaN</td>\n",
       "      <td>NaN</td>\n",
       "      <td>NaN</td>\n",
       "      <td>NaN</td>\n",
       "      <td>NaN</td>\n",
       "    </tr>\n",
       "    <tr>\n",
       "      <th>10003</th>\n",
       "      <td>94d18e86e504bee1e392df7e5738b18a</td>\n",
       "      <td>Star Wars 1/72 Y-Wing Starfighter</td>\n",
       "      <td>Bandai</td>\n",
       "      <td>£21.20</td>\n",
       "      <td>31 new</td>\n",
       "      <td>11</td>\n",
       "      <td>3</td>\n",
       "      <td>4.5 out of 5 stars</td>\n",
       "      <td>Characters &amp; Brands &gt; Star Wars &gt; Toys</td>\n",
       "      <td>NaN</td>\n",
       "      <td>...</td>\n",
       "      <td>NaN</td>\n",
       "      <td>NaN</td>\n",
       "      <td>NaN</td>\n",
       "      <td>NaN</td>\n",
       "      <td>NaN</td>\n",
       "      <td>NaN</td>\n",
       "      <td>NaN</td>\n",
       "      <td>NaN</td>\n",
       "      <td>NaN</td>\n",
       "      <td>NaN</td>\n",
       "    </tr>\n",
       "  </tbody>\n",
       "</table>\n",
       "<p>5 rows × 895 columns</p>\n",
       "</div>"
      ],
      "text/plain": [
       "                                uniq_id  \\\n",
       "9999   44d6967f083825a5de36ad4865a65bcd   \n",
       "10000  08f0747b6fc6687215ffb994c3a6fb32   \n",
       "10001  bf6cc073f8f24e6e338190fa16f6ee9d   \n",
       "10002  cd783d0b8b44e631b9788b203eaaefae   \n",
       "10003  94d18e86e504bee1e392df7e5738b18a   \n",
       "\n",
       "                                            product_name  \\\n",
       "9999   Batman 1966 TV Series Action Figures - The Rid...   \n",
       "10000  Star Wars Costume, Kids Stormtrooper Costume S...   \n",
       "10001        Defiance Lawkeeper Metal Badge Prop Replica   \n",
       "10002  Justice League of America Series 3 Green Lante...   \n",
       "10003                  Star Wars 1/72 Y-Wing Starfighter   \n",
       "\n",
       "                  manufacturer   price number_available_in_stock  \\\n",
       "9999                    Mattel  £22.95                     5 new   \n",
       "10000                Star Wars  £39.99                       NaN   \n",
       "10001  Olde Scotland Yard Ltd.  £43.99                     3 new   \n",
       "10002                DC Comics  £49.81                     3 new   \n",
       "10003                   Bandai  £21.20                    31 new   \n",
       "\n",
       "      number_of_reviews number_of_answered_questions average_review_rating  \\\n",
       "9999                  3                            3    5.0 out of 5 stars   \n",
       "10000                 1                            3    4.0 out of 5 stars   \n",
       "10001                 1                            3    5.0 out of 5 stars   \n",
       "10002                 1                            3    5.0 out of 5 stars   \n",
       "10003                11                            3    4.5 out of 5 stars   \n",
       "\n",
       "                        amazon_category_and_sub_category  \\\n",
       "9999   Hobbies > Collectible Figures & Memorabilia > ...   \n",
       "10000             Characters & Brands > Star Wars > Toys   \n",
       "10001  Novelty & Special Use > Novelty > Accessories ...   \n",
       "10002  Hobbies > Collectible Figures & Memorabilia > ...   \n",
       "10003             Characters & Brands > Star Wars > Toys   \n",
       "\n",
       "                                             description  ... Unnamed: 885  \\\n",
       "9999   DC 66 Batman Classic TV Series 6 Inch Riddler ...  ...          NaN   \n",
       "10000                                                NaN  ...          NaN   \n",
       "10001  *Includes 1x Badge with holder and chain *High...  ...          NaN   \n",
       "10002  Designed by Ed BenesIt's here - the third seri...  ...          NaN   \n",
       "10003                                                NaN  ...          NaN   \n",
       "\n",
       "      Unnamed: 886 Unnamed: 887 Unnamed: 888 Unnamed: 889 Unnamed: 890  \\\n",
       "9999           NaN          NaN          NaN          NaN          NaN   \n",
       "10000          NaN          NaN          NaN          NaN          NaN   \n",
       "10001          NaN          NaN          NaN          NaN          NaN   \n",
       "10002          NaN          NaN          NaN          NaN          NaN   \n",
       "10003          NaN          NaN          NaN          NaN          NaN   \n",
       "\n",
       "      Unnamed: 891 Unnamed: 892 Unnamed: 893 Unnamed: 894  \n",
       "9999           NaN          NaN          NaN          NaN  \n",
       "10000          NaN          NaN          NaN          NaN  \n",
       "10001          NaN          NaN          NaN          NaN  \n",
       "10002          NaN          NaN          NaN          NaN  \n",
       "10003          NaN          NaN          NaN          NaN  \n",
       "\n",
       "[5 rows x 895 columns]"
      ]
     },
     "execution_count": 4,
     "metadata": {},
     "output_type": "execute_result"
    }
   ],
   "source": [
    "df.tail()"
   ]
  },
  {
   "cell_type": "code",
   "execution_count": 5,
   "id": "61477a38",
   "metadata": {},
   "outputs": [
    {
     "name": "stdout",
     "output_type": "stream",
     "text": [
      "<class 'pandas.core.frame.DataFrame'>\n",
      "RangeIndex: 10004 entries, 0 to 10003\n",
      "Columns: 895 entries, uniq_id to Unnamed: 894\n",
      "dtypes: object(895)\n",
      "memory usage: 68.3+ MB\n"
     ]
    }
   ],
   "source": [
    "df.info()"
   ]
  },
  {
   "cell_type": "code",
   "execution_count": 6,
   "id": "d24ae10f",
   "metadata": {},
   "outputs": [],
   "source": [
    "df = df.loc[:, ~df.columns.str.contains('^Unnamed')]"
   ]
  },
  {
   "cell_type": "code",
   "execution_count": 7,
   "id": "0e3d1ce9",
   "metadata": {},
   "outputs": [
    {
     "name": "stdout",
     "output_type": "stream",
     "text": [
      "<class 'pandas.core.frame.DataFrame'>\n",
      "RangeIndex: 10004 entries, 0 to 10003\n",
      "Data columns (total 14 columns):\n",
      " #   Column                                       Non-Null Count  Dtype \n",
      "---  ------                                       --------------  ----- \n",
      " 0   uniq_id                                      10002 non-null  object\n",
      " 1   product_name                                 10002 non-null  object\n",
      " 2   manufacturer                                 9995 non-null   object\n",
      " 3   price                                        8567 non-null   object\n",
      " 4   number_available_in_stock                    7502 non-null   object\n",
      " 5   number_of_reviews                            9984 non-null   object\n",
      " 6   number_of_answered_questions                 9237 non-null   object\n",
      " 7   average_review_rating                        9984 non-null   object\n",
      " 8   amazon_category_and_sub_category             9312 non-null   object\n",
      " 9   description                                  9351 non-null   object\n",
      " 10  product_information                          9943 non-null   object\n",
      " 11  product_description                          9350 non-null   object\n",
      " 12  items_customers_buy_after_viewing_this_item  6936 non-null   object\n",
      " 13  customer_questions_and_answers               915 non-null    object\n",
      "dtypes: object(14)\n",
      "memory usage: 1.1+ MB\n"
     ]
    }
   ],
   "source": [
    "df.info()"
   ]
  },
  {
   "cell_type": "code",
   "execution_count": 8,
   "id": "3c03f8c8",
   "metadata": {},
   "outputs": [],
   "source": [
    "df.dropna(subset=['price'], inplace=True)"
   ]
  },
  {
   "cell_type": "code",
   "execution_count": 9,
   "id": "a4227698",
   "metadata": {},
   "outputs": [],
   "source": [
    "df['number_available_in_stock'].fillna(0, inplace=True)\n",
    "df['number_of_reviews'].fillna(0, inplace=True)\n",
    "df['number_of_answered_questions'].fillna(0, inplace=True)"
   ]
  },
  {
   "cell_type": "code",
   "execution_count": 10,
   "id": "6c95bda9",
   "metadata": {},
   "outputs": [],
   "source": [
    "df.fillna({\n",
    "    'average_review_rating': 'no reviews',\n",
    "    'product_description' : 'no description',\n",
    "    'manufacturer': 'Unknown',\n",
    "    'amazon_category_and_sub_category': 'Miscellaneous',\n",
    "    'description': 'No description',\n",
    "    'product_information' : 'No information',\n",
    "    'items_customers_buy_after_viewing_this_item': 'None'\n",
    "}, inplace=True)"
   ]
  },
  {
   "cell_type": "code",
   "execution_count": 11,
   "id": "e0ce77e3",
   "metadata": {},
   "outputs": [
    {
     "name": "stdout",
     "output_type": "stream",
     "text": [
      "<class 'pandas.core.frame.DataFrame'>\n",
      "Index: 8567 entries, 0 to 10003\n",
      "Data columns (total 14 columns):\n",
      " #   Column                                       Non-Null Count  Dtype \n",
      "---  ------                                       --------------  ----- \n",
      " 0   uniq_id                                      8567 non-null   object\n",
      " 1   product_name                                 8567 non-null   object\n",
      " 2   manufacturer                                 8567 non-null   object\n",
      " 3   price                                        8567 non-null   object\n",
      " 4   number_available_in_stock                    8567 non-null   object\n",
      " 5   number_of_reviews                            8567 non-null   object\n",
      " 6   number_of_answered_questions                 8567 non-null   object\n",
      " 7   average_review_rating                        8567 non-null   object\n",
      " 8   amazon_category_and_sub_category             8567 non-null   object\n",
      " 9   description                                  8567 non-null   object\n",
      " 10  product_information                          8567 non-null   object\n",
      " 11  product_description                          8567 non-null   object\n",
      " 12  items_customers_buy_after_viewing_this_item  8567 non-null   object\n",
      " 13  customer_questions_and_answers               823 non-null    object\n",
      "dtypes: object(14)\n",
      "memory usage: 1003.9+ KB\n"
     ]
    }
   ],
   "source": [
    "df.info()"
   ]
  },
  {
   "cell_type": "code",
   "execution_count": 12,
   "id": "51450e64",
   "metadata": {},
   "outputs": [
    {
     "data": {
      "text/plain": [
       "array(['£3.42', '£16.99', '£9.99', ..., '£29.79', '£49.81', '£21.20'],\n",
       "      dtype=object)"
      ]
     },
     "execution_count": 12,
     "metadata": {},
     "output_type": "execute_result"
    }
   ],
   "source": [
    "df['price'].unique()"
   ]
  },
  {
   "cell_type": "code",
   "execution_count": 13,
   "id": "dd553a52",
   "metadata": {},
   "outputs": [],
   "source": [
    "df[\"price\"] = df[\"price\"].str.replace('[\\£]', '', regex='true')"
   ]
  },
  {
   "cell_type": "code",
   "execution_count": 14,
   "id": "0d8a1337",
   "metadata": {},
   "outputs": [],
   "source": [
    "df.dropna(subset=['price'], inplace=True)"
   ]
  },
  {
   "cell_type": "code",
   "execution_count": 15,
   "id": "29521fb2",
   "metadata": {},
   "outputs": [],
   "source": [
    "def clean_price(price):\n",
    "    try:\n",
    "        # Split the range values\n",
    "        range_values = price.split('-')\n",
    "        range_values = [float(value.strip()) for value in range_values]\n",
    "        \n",
    "        # Calculate the average of the range\n",
    "        avg_price = sum(range_values) / len(range_values)\n",
    "        \n",
    "        return avg_price\n",
    "    except:\n",
    "        return None\n",
    "\n",
    "df['price'] = df['price'].apply(clean_price)"
   ]
  },
  {
   "cell_type": "code",
   "execution_count": 16,
   "id": "49703f2d",
   "metadata": {},
   "outputs": [
    {
     "data": {
      "text/plain": [
       "array(['4.9 out of 5 stars', '4.5 out of 5 stars', '3.9 out of 5 stars',\n",
       "       '5.0 out of 5 stars', '4.7 out of 5 stars', '4.3 out of 5 stars',\n",
       "       '4.0 out of 5 stars', '4.8 out of 5 stars', '4.2 out of 5 stars',\n",
       "       '4.6 out of 5 stars', 'no reviews', '4.1 out of 5 stars',\n",
       "       '4.4 out of 5 stars', '3.5 out of 5 stars', '3.0 out of 5 stars',\n",
       "       '{\"\"text\"\":\"\"Amazon Cloud Drive\"\"', '3.3 out of 5 stars',\n",
       "       '3.7 out of 5 stars', '3.6 out of 5 stars', '2.3 out of 5 stars'],\n",
       "      dtype=object)"
      ]
     },
     "execution_count": 16,
     "metadata": {},
     "output_type": "execute_result"
    }
   ],
   "source": [
    "df['average_review_rating'].unique()"
   ]
  },
  {
   "cell_type": "code",
   "execution_count": 17,
   "id": "ccef633b",
   "metadata": {},
   "outputs": [],
   "source": [
    "rating_mapping = {\n",
    "    'no reviews': None,\n",
    "    '{\"\"text\"\":\"\"Amazon Cloud Drive\"\"': None\n",
    "}\n",
    "df['average_review_rating'] = df['average_review_rating'].replace(rating_mapping)\n",
    "df['average_review_rating'] = df['average_review_rating'].str.extract('(\\d+\\.\\d+)').astype(float)"
   ]
  },
  {
   "cell_type": "code",
   "execution_count": 18,
   "id": "0f1e623c",
   "metadata": {},
   "outputs": [
    {
     "data": {
      "text/html": [
       "<div>\n",
       "<style scoped>\n",
       "    .dataframe tbody tr th:only-of-type {\n",
       "        vertical-align: middle;\n",
       "    }\n",
       "\n",
       "    .dataframe tbody tr th {\n",
       "        vertical-align: top;\n",
       "    }\n",
       "\n",
       "    .dataframe thead th {\n",
       "        text-align: right;\n",
       "    }\n",
       "</style>\n",
       "<table border=\"1\" class=\"dataframe\">\n",
       "  <thead>\n",
       "    <tr style=\"text-align: right;\">\n",
       "      <th></th>\n",
       "      <th>uniq_id</th>\n",
       "      <th>product_name</th>\n",
       "      <th>manufacturer</th>\n",
       "      <th>price</th>\n",
       "      <th>number_available_in_stock</th>\n",
       "      <th>number_of_reviews</th>\n",
       "      <th>number_of_answered_questions</th>\n",
       "      <th>average_review_rating</th>\n",
       "      <th>amazon_category_and_sub_category</th>\n",
       "      <th>description</th>\n",
       "      <th>product_information</th>\n",
       "      <th>product_description</th>\n",
       "      <th>items_customers_buy_after_viewing_this_item</th>\n",
       "      <th>customer_questions_and_answers</th>\n",
       "    </tr>\n",
       "  </thead>\n",
       "  <tbody>\n",
       "    <tr>\n",
       "      <th>0</th>\n",
       "      <td>eac7efa5dbd3d667f26eb3d3ab504464</td>\n",
       "      <td>Hornby 2014 Catalogue</td>\n",
       "      <td>Hornby</td>\n",
       "      <td>3.42</td>\n",
       "      <td>5 new</td>\n",
       "      <td>15</td>\n",
       "      <td>1</td>\n",
       "      <td>4.9</td>\n",
       "      <td>Hobbies &gt; Model Trains &amp; Railway Sets &gt; Rail V...</td>\n",
       "      <td>Product Description Hornby 2014 Catalogue Box ...</td>\n",
       "      <td>Technical Details Item Weight640 g Product Dim...</td>\n",
       "      <td>Product Description Hornby 2014 Catalogue Box ...</td>\n",
       "      <td>http://www.amazon.co.uk/Hornby-R8150-Catalogue...</td>\n",
       "      <td>Does this catalogue detail all the previous Ho...</td>\n",
       "    </tr>\n",
       "    <tr>\n",
       "      <th>1</th>\n",
       "      <td>b17540ef7e86e461d37f3ae58b7b72ac</td>\n",
       "      <td>FunkyBuys® Large Christmas Holiday Express Fes...</td>\n",
       "      <td>FunkyBuys</td>\n",
       "      <td>16.99</td>\n",
       "      <td>0</td>\n",
       "      <td>2</td>\n",
       "      <td>1</td>\n",
       "      <td>4.5</td>\n",
       "      <td>Hobbies &gt; Model Trains &amp; Railway Sets &gt; Rail V...</td>\n",
       "      <td>Size Name:Large FunkyBuys® Large Christmas Hol...</td>\n",
       "      <td>Technical Details Manufacturer recommended age...</td>\n",
       "      <td>Size Name:Large FunkyBuys® Large Christmas Hol...</td>\n",
       "      <td>http://www.amazon.co.uk/Christmas-Holiday-Expr...</td>\n",
       "      <td>can you turn off sounds // hi no you cant turn...</td>\n",
       "    </tr>\n",
       "    <tr>\n",
       "      <th>2</th>\n",
       "      <td>348f344247b0c1a935b1223072ef9d8a</td>\n",
       "      <td>CLASSIC TOY TRAIN SET TRACK CARRIAGES LIGHT EN...</td>\n",
       "      <td>ccf</td>\n",
       "      <td>9.99</td>\n",
       "      <td>2 new</td>\n",
       "      <td>17</td>\n",
       "      <td>2</td>\n",
       "      <td>3.9</td>\n",
       "      <td>Hobbies &gt; Model Trains &amp; Railway Sets &gt; Rail V...</td>\n",
       "      <td>BIG CLASSIC TOY TRAIN SET TRACK CARRIAGE LIGHT...</td>\n",
       "      <td>Technical Details Manufacturer recommended age...</td>\n",
       "      <td>BIG CLASSIC TOY TRAIN SET TRACK CARRIAGE LIGHT...</td>\n",
       "      <td>http://www.amazon.co.uk/Train-With-Tracks-Batt...</td>\n",
       "      <td>What is the gauge of the track // Hi Paul.Trut...</td>\n",
       "    </tr>\n",
       "    <tr>\n",
       "      <th>3</th>\n",
       "      <td>e12b92dbb8eaee78b22965d2a9bbbd9f</td>\n",
       "      <td>HORNBY Coach R4410A BR Hawksworth Corridor 3rd</td>\n",
       "      <td>Hornby</td>\n",
       "      <td>39.99</td>\n",
       "      <td>0</td>\n",
       "      <td>1</td>\n",
       "      <td>2</td>\n",
       "      <td>5.0</td>\n",
       "      <td>Hobbies &gt; Model Trains &amp; Railway Sets &gt; Rail V...</td>\n",
       "      <td>Hornby 00 Gauge BR Hawksworth 3rd Class W 2107...</td>\n",
       "      <td>Technical Details Item Weight259 g Product Dim...</td>\n",
       "      <td>Hornby 00 Gauge BR Hawksworth 3rd Class W 2107...</td>\n",
       "      <td>None</td>\n",
       "      <td>NaN</td>\n",
       "    </tr>\n",
       "    <tr>\n",
       "      <th>4</th>\n",
       "      <td>e33a9adeed5f36840ccc227db4682a36</td>\n",
       "      <td>Hornby 00 Gauge 0-4-0 Gildenlow Salt Co. Steam...</td>\n",
       "      <td>Hornby</td>\n",
       "      <td>32.19</td>\n",
       "      <td>0</td>\n",
       "      <td>3</td>\n",
       "      <td>2</td>\n",
       "      <td>4.7</td>\n",
       "      <td>Hobbies &gt; Model Trains &amp; Railway Sets &gt; Rail V...</td>\n",
       "      <td>Product Description Hornby RailRoad 0-4-0 Gild...</td>\n",
       "      <td>Technical Details Item Weight159 g Product Dim...</td>\n",
       "      <td>Product Description Hornby RailRoad 0-4-0 Gild...</td>\n",
       "      <td>http://www.amazon.co.uk/Hornby-R2672-RailRoad-...</td>\n",
       "      <td>NaN</td>\n",
       "    </tr>\n",
       "  </tbody>\n",
       "</table>\n",
       "</div>"
      ],
      "text/plain": [
       "                            uniq_id  \\\n",
       "0  eac7efa5dbd3d667f26eb3d3ab504464   \n",
       "1  b17540ef7e86e461d37f3ae58b7b72ac   \n",
       "2  348f344247b0c1a935b1223072ef9d8a   \n",
       "3  e12b92dbb8eaee78b22965d2a9bbbd9f   \n",
       "4  e33a9adeed5f36840ccc227db4682a36   \n",
       "\n",
       "                                        product_name manufacturer  price  \\\n",
       "0                              Hornby 2014 Catalogue       Hornby   3.42   \n",
       "1  FunkyBuys® Large Christmas Holiday Express Fes...    FunkyBuys  16.99   \n",
       "2  CLASSIC TOY TRAIN SET TRACK CARRIAGES LIGHT EN...          ccf   9.99   \n",
       "3     HORNBY Coach R4410A BR Hawksworth Corridor 3rd       Hornby  39.99   \n",
       "4  Hornby 00 Gauge 0-4-0 Gildenlow Salt Co. Steam...       Hornby  32.19   \n",
       "\n",
       "  number_available_in_stock number_of_reviews number_of_answered_questions  \\\n",
       "0                     5 new                15                            1   \n",
       "1                         0                 2                            1   \n",
       "2                     2 new                17                            2   \n",
       "3                         0                 1                            2   \n",
       "4                         0                 3                            2   \n",
       "\n",
       "   average_review_rating                   amazon_category_and_sub_category  \\\n",
       "0                    4.9  Hobbies > Model Trains & Railway Sets > Rail V...   \n",
       "1                    4.5  Hobbies > Model Trains & Railway Sets > Rail V...   \n",
       "2                    3.9  Hobbies > Model Trains & Railway Sets > Rail V...   \n",
       "3                    5.0  Hobbies > Model Trains & Railway Sets > Rail V...   \n",
       "4                    4.7  Hobbies > Model Trains & Railway Sets > Rail V...   \n",
       "\n",
       "                                         description  \\\n",
       "0  Product Description Hornby 2014 Catalogue Box ...   \n",
       "1  Size Name:Large FunkyBuys® Large Christmas Hol...   \n",
       "2  BIG CLASSIC TOY TRAIN SET TRACK CARRIAGE LIGHT...   \n",
       "3  Hornby 00 Gauge BR Hawksworth 3rd Class W 2107...   \n",
       "4  Product Description Hornby RailRoad 0-4-0 Gild...   \n",
       "\n",
       "                                 product_information  \\\n",
       "0  Technical Details Item Weight640 g Product Dim...   \n",
       "1  Technical Details Manufacturer recommended age...   \n",
       "2  Technical Details Manufacturer recommended age...   \n",
       "3  Technical Details Item Weight259 g Product Dim...   \n",
       "4  Technical Details Item Weight159 g Product Dim...   \n",
       "\n",
       "                                 product_description  \\\n",
       "0  Product Description Hornby 2014 Catalogue Box ...   \n",
       "1  Size Name:Large FunkyBuys® Large Christmas Hol...   \n",
       "2  BIG CLASSIC TOY TRAIN SET TRACK CARRIAGE LIGHT...   \n",
       "3  Hornby 00 Gauge BR Hawksworth 3rd Class W 2107...   \n",
       "4  Product Description Hornby RailRoad 0-4-0 Gild...   \n",
       "\n",
       "         items_customers_buy_after_viewing_this_item  \\\n",
       "0  http://www.amazon.co.uk/Hornby-R8150-Catalogue...   \n",
       "1  http://www.amazon.co.uk/Christmas-Holiday-Expr...   \n",
       "2  http://www.amazon.co.uk/Train-With-Tracks-Batt...   \n",
       "3                                               None   \n",
       "4  http://www.amazon.co.uk/Hornby-R2672-RailRoad-...   \n",
       "\n",
       "                      customer_questions_and_answers  \n",
       "0  Does this catalogue detail all the previous Ho...  \n",
       "1  can you turn off sounds // hi no you cant turn...  \n",
       "2  What is the gauge of the track // Hi Paul.Trut...  \n",
       "3                                                NaN  \n",
       "4                                                NaN  "
      ]
     },
     "execution_count": 18,
     "metadata": {},
     "output_type": "execute_result"
    }
   ],
   "source": [
    "df.head()"
   ]
  },
  {
   "cell_type": "markdown",
   "id": "204e3140",
   "metadata": {},
   "source": [
    "## Statistics Summary"
   ]
  },
  {
   "cell_type": "code",
   "execution_count": 19,
   "id": "c6655c0d",
   "metadata": {},
   "outputs": [
    {
     "data": {
      "text/html": [
       "<div>\n",
       "<style scoped>\n",
       "    .dataframe tbody tr th:only-of-type {\n",
       "        vertical-align: middle;\n",
       "    }\n",
       "\n",
       "    .dataframe tbody tr th {\n",
       "        vertical-align: top;\n",
       "    }\n",
       "\n",
       "    .dataframe thead th {\n",
       "        text-align: right;\n",
       "    }\n",
       "</style>\n",
       "<table border=\"1\" class=\"dataframe\">\n",
       "  <thead>\n",
       "    <tr style=\"text-align: right;\">\n",
       "      <th></th>\n",
       "      <th>price</th>\n",
       "      <th>average_review_rating</th>\n",
       "    </tr>\n",
       "  </thead>\n",
       "  <tbody>\n",
       "    <tr>\n",
       "      <th>count</th>\n",
       "      <td>8563.000000</td>\n",
       "      <td>8550.000000</td>\n",
       "    </tr>\n",
       "    <tr>\n",
       "      <th>mean</th>\n",
       "      <td>20.047271</td>\n",
       "      <td>4.709602</td>\n",
       "    </tr>\n",
       "    <tr>\n",
       "      <th>std</th>\n",
       "      <td>38.511872</td>\n",
       "      <td>0.371093</td>\n",
       "    </tr>\n",
       "    <tr>\n",
       "      <th>min</th>\n",
       "      <td>0.010000</td>\n",
       "      <td>2.300000</td>\n",
       "    </tr>\n",
       "    <tr>\n",
       "      <th>25%</th>\n",
       "      <td>4.990000</td>\n",
       "      <td>4.500000</td>\n",
       "    </tr>\n",
       "    <tr>\n",
       "      <th>50%</th>\n",
       "      <td>10.630000</td>\n",
       "      <td>5.000000</td>\n",
       "    </tr>\n",
       "    <tr>\n",
       "      <th>75%</th>\n",
       "      <td>19.990000</td>\n",
       "      <td>5.000000</td>\n",
       "    </tr>\n",
       "    <tr>\n",
       "      <th>max</th>\n",
       "      <td>995.110000</td>\n",
       "      <td>5.000000</td>\n",
       "    </tr>\n",
       "  </tbody>\n",
       "</table>\n",
       "</div>"
      ],
      "text/plain": [
       "             price  average_review_rating\n",
       "count  8563.000000            8550.000000\n",
       "mean     20.047271               4.709602\n",
       "std      38.511872               0.371093\n",
       "min       0.010000               2.300000\n",
       "25%       4.990000               4.500000\n",
       "50%      10.630000               5.000000\n",
       "75%      19.990000               5.000000\n",
       "max     995.110000               5.000000"
      ]
     },
     "execution_count": 19,
     "metadata": {},
     "output_type": "execute_result"
    }
   ],
   "source": [
    "df.describe()"
   ]
  },
  {
   "cell_type": "markdown",
   "id": "5a4a54ed",
   "metadata": {},
   "source": [
    "\n",
    "1. **Price Distribution:**\n",
    "\n",
    "   - The mean price of products is around 20.05, with a wide range (min = 0.01, max = 995.11) and a relatively high standard deviation (std = 38.51).\n",
    "   - Most products (25%) are priced below 5, and 75% of the products are priced below 19.99.\n",
    "\n",
    "2. **Review Activity:**\n",
    "\n",
    "   - On average, each product has around 9.3 reviews, with a maximum of 802 reviews.\n",
    "   - 25% of products have only 1 review, while 50% have 2 or fewer reviews.\n",
    "\n",
    "3. **Average Review Rating:**\n",
    "\n",
    "   - The average review rating is approximately 4.71, with a minimum of 2.3 and a maximum of 5.0.\n",
    "   - Most products have an average rating of 5.0 (75th percentile).\n",
    "\n",
    "4. **Items Customers Buy After Viewing:**\n",
    "\n",
    "   - Most customers buy 2 items after viewing a product (median = 4), with a maximum of 4 items.\n",
    "   - All products have a maximum count of 4 items that customers buy after viewing."
   ]
  },
  {
   "cell_type": "code",
   "execution_count": 20,
   "id": "3106c58f",
   "metadata": {},
   "outputs": [
    {
     "name": "stdout",
     "output_type": "stream",
     "text": [
      "price                         8.544266\n",
      "number_of_reviews            11.823200\n",
      "average_review_rating        -0.963615\n",
      "items_customers_buy_count    -0.329439\n",
      "dtype: float64\n"
     ]
    }
   ],
   "source": [
    "df['number_of_reviews'] = pd.to_numeric(df['number_of_reviews'], errors='coerce')\n",
    "df['items_customers_buy_count'] = df['items_customers_buy_after_viewing_this_item'].str.count('\\|') + 1\n",
    "numeric_columns = ['price', 'number_of_reviews', 'average_review_rating', 'items_customers_buy_count']\n",
    "skewness = df[numeric_columns].skew()\n",
    "print(skewness)"
   ]
  },
  {
   "cell_type": "markdown",
   "id": "7019a110",
   "metadata": {},
   "source": [
    "1. **Price Skewness (8.544266):**\n",
    "\n",
    "   - Positive skewness indicates a right-skewed distribution of prices.\n",
    "   - Most products might have lower prices, but a few could be significantly higher.\n",
    "   \n",
    "2. **Number of Reviews Skewness (11.823200):**\n",
    "\n",
    "   - Positive skewness suggests a right-skewed distribution of review counts.\n",
    "   - Many products likely have few reviews, while a few have very high review counts.\n",
    "   \n",
    "3. **Average Review Rating Skewness (-0.963615):**\n",
    "   \n",
    "   - Negative skewness implies a slightly left-skewed distribution of review ratings.\n",
    "   - There might be a cluster of products with high average ratings (possibly near 5.0).\n",
    "   \n",
    "4. **Items Customers Buy Count Skewness (-0.329439):**\n",
    "   \n",
    "   - Negative skewness indicates a slightly left-skewed distribution of items bought after viewing.\n",
    "   - Most products might lead to fewer additional purchases, but some could prompt higher additional item counts."
   ]
  },
  {
   "cell_type": "markdown",
   "id": "5474a040",
   "metadata": {},
   "source": [
    "### Popular Categories\n",
    "Identifying popular product categories can help businesses focus their marketing efforts and allocate resources to products that are in high demand. This can lead to better inventory management and increased sales."
   ]
  },
  {
   "cell_type": "code",
   "execution_count": 21,
   "id": "7802ee43",
   "metadata": {},
   "outputs": [
    {
     "data": {
      "image/png": "[encoded data removed]",
      "text/plain": [
       "<Figure size 640x480 with 1 Axes>"
      ]
     },
     "metadata": {},
     "output_type": "display_data"
    }
   ],
   "source": [
    "category_counts = df['amazon_category_and_sub_category'].value_counts()\n",
    "top_categories = category_counts[:10]\n",
    "top_categories.plot(kind='bar', color='blue')\n",
    "plt.title('Top 10 Amazon Categories')\n",
    "plt.xlabel('Category')\n",
    "plt.ylabel('Number of Products');"
   ]
  },
  {
   "cell_type": "markdown",
   "id": "3d1ee602",
   "metadata": {},
   "source": [
    "### Items Bought After Viewing\n",
    "\n",
    "Understanding the average items bought after viewing informs businesses of effective cross-selling. This encourages customers to explore related products, boosting average order values and enhancing the shopping experience through personalized recommendations. This insight guides strategic product placement and promotion, optimizing revenue and customer satisfaction."
   ]
  },
  {
   "cell_type": "code",
   "execution_count": 22,
   "id": "3a6631b9",
   "metadata": {},
   "outputs": [
    {
     "name": "stdout",
     "output_type": "stream",
     "text": [
      "Average Items Bought After Viewing: 2.7470526438659975\n"
     ]
    }
   ],
   "source": [
    "avg_items_bought = df['items_customers_buy_count'].mean()\n",
    "print(\"Average Items Bought After Viewing:\", avg_items_bought)"
   ]
  },
  {
   "cell_type": "markdown",
   "id": "43e1ee7b",
   "metadata": {},
   "source": [
    "### Manufacturer Analysis\n",
    "\n",
    "Application:\n",
    "Identifying top manufacturers can help businesses establish partnerships and collaborations with popular brands, potentially improving their product offerings and customer loyalty. Businesses can tailor marketing efforts, collaborations, and inventory stocking based on popular manufacturers."
   ]
  },
  {
   "cell_type": "code",
   "execution_count": 23,
   "id": "2c42077d",
   "metadata": {},
   "outputs": [
    {
     "data": {
      "image/png": "[encoded data removed]",
      "text/plain": [
       "<Figure size 640x480 with 1 Axes>"
      ]
     },
     "metadata": {},
     "output_type": "display_data"
    }
   ],
   "source": [
    "plt.subplot()\n",
    "df['manufacturer'].value_counts().head(10).plot(kind='barh', color='purple')\n",
    "plt.title('Top 10 Manufacturers')\n",
    "plt.xlabel('Number of Products')\n",
    "plt.ylabel('Manufacturer');"
   ]
  },
  {
   "cell_type": "markdown",
   "id": "42a1e62f",
   "metadata": {},
   "source": [
    "### Correlation between Price and Ratings\n",
    "\n",
    "Understanding the correlation between price and ratings helps businesses determine whether higher-priced products are perceived as offering better value. This information can influence pricing and marketing strategies."
   ]
  },
  {
   "cell_type": "code",
   "execution_count": 24,
   "id": "b819dc2a",
   "metadata": {},
   "outputs": [
    {
     "name": "stdout",
     "output_type": "stream",
     "text": [
      "Correlation between Price and Ratings:\n",
      "                           price  average_review_rating\n",
      "price                  1.000000               0.044587\n",
      "average_review_rating  0.044587               1.000000\n"
     ]
    },
    {
     "data": {
      "image/png": "[encoded data removed]",
      "text/plain": [
       "<Figure size 600x400 with 2 Axes>"
      ]
     },
     "metadata": {},
     "output_type": "display_data"
    }
   ],
   "source": [
    "price_vs_rating = df[['price', 'average_review_rating']]\n",
    "correlation = price_vs_rating.corr()\n",
    "print(\"Correlation between Price and Ratings:\\n\", correlation)\n",
    "plt.figure(figsize=(6, 4))\n",
    "plt.imshow(correlation, cmap='coolwarm', aspect='auto')\n",
    "plt.colorbar(label='Correlation')\n",
    "plt.title(\"Correlation between Price and Ratings\")\n",
    "plt.show()"
   ]
  },
  {
   "cell_type": "markdown",
   "id": "7ea921d8",
   "metadata": {},
   "source": [
    "The correlation coefficient between 'price' and 'average_review_rating' is approximately 0.0446. This value is close to 0, suggesting a very weak positive correlation or practically no correlation between the two variables.\n",
    "#### Inference:\n",
    "Based on the correlation coefficient value, the analysis suggests that there is little to no linear relationship between the 'price' and 'average_review_rating' columns. In other words, changes in the price of a product do not appear to have a significant impact on its average review rating. This information can guide businesses to consider other factors that might influence customer reviews and ratings, rather than just the price of the product."
   ]
  },
  {
   "cell_type": "markdown",
   "id": "7bbc5e37",
   "metadata": {},
   "source": [
    "### Price Elasticity Analysis\n",
    "\n",
    "Calculating price elasticity helps businesses understand how changes in price impact demand. This information is crucial for setting optimal prices that maximize revenue and profit."
   ]
  },
  {
   "cell_type": "code",
   "execution_count": 25,
   "id": "5adcb62f",
   "metadata": {},
   "outputs": [
    {
     "data": {
      "image/png": "[encoded data removed]",
      "text/plain": [
       "<Figure size 1000x600 with 1 Axes>"
      ]
     },
     "metadata": {},
     "output_type": "display_data"
    },
    {
     "name": "stdout",
     "output_type": "stream",
     "text": [
      "Price Elasticity by Price Range:\n",
      " price_range\n",
      "<50        0.742208\n",
      "50-100     0.109014\n",
      "100-200    0.036094\n",
      "200-500    0.008534\n",
      ">500       0.002130\n",
      "dtype: float64\n"
     ]
    }
   ],
   "source": [
    "df['number_of_reviews'] = pd.to_numeric(df['number_of_reviews'], errors='coerce')\n",
    "df['price_range'] = pd.cut(df['price'], bins=[0, 50, 100, 200, 500, 1000], labels=['<50', '50-100', '100-200', '200-500', '>500'])\n",
    "price_elasticity = df.groupby('price_range')['number_of_reviews'].sum() / df.groupby('price_range')['price'].sum()\n",
    "plt.figure(figsize=(10, 6))\n",
    "price_elasticity.plot(kind='bar', color='blue')\n",
    "plt.title('Price Elasticity by Price Range')\n",
    "plt.xlabel('Price Range')\n",
    "plt.ylabel('Price Elasticity')\n",
    "plt.show()\n",
    "print(\"Price Elasticity by Price Range:\\n\", price_elasticity)"
   ]
  },
  {
   "cell_type": "markdown",
   "id": "7f981dfa",
   "metadata": {},
   "source": [
    "#### Inference:\n",
    "\n",
    "The calculated price elasticity values show how customer reviews respond to price changes within different price ranges:\n",
    "\n",
    "In the \"<50\" price range, customer reviews are relatively responsive to price changes, with a 1% price increase leading to around a 0.742% decrease in reviews.\n",
    "In the \"50-100\" price range, reviews are less responsive, with a 1% price increase resulting in about a 0.109% decrease in reviews.\n",
    "These insights suggest that lower-priced products tend to have more price-sensitive reviews, while higher-priced products have reviews that are less affected by price changes. Businesses can use this information to adjust pricing strategies based on customer behavior in different price ranges."
   ]
  },
  {
   "cell_type": "markdown",
   "id": "98064599",
   "metadata": {},
   "source": [
    "### Most Common Manufacturer\n",
    "It can help retailers and e-commerce platforms identify popular manufacturers, allowing them to establish stronger partnerships or collaborations with those manufacturers. It can also guide inventory management by focusing on products from the most common manufacturer."
   ]
  },
  {
   "cell_type": "code",
   "execution_count": 26,
   "id": "2f9364fc",
   "metadata": {},
   "outputs": [
    {
     "name": "stdout",
     "output_type": "stream",
     "text": [
      "The most common manufacturer: Oxford Diecast\n"
     ]
    }
   ],
   "source": [
    "common_manufacturer = df['manufacturer'].value_counts().idxmax()\n",
    "print(\"The most common manufacturer:\", common_manufacturer)"
   ]
  },
  {
   "cell_type": "markdown",
   "id": "98a41995",
   "metadata": {},
   "source": [
    "### Customer Engagement and Reviews\n",
    "The list of highly engaged products, along with their engagement values, provides insights into products that are particularly popular and engaging among customers. Identifying products with high customer engagement (reviews and answered questions) can help businesses understand customer interests and improve customer satisfaction."
   ]
  },
  {
   "cell_type": "code",
   "execution_count": 27,
   "id": "27ba4135",
   "metadata": {},
   "outputs": [
    {
     "name": "stdout",
     "output_type": "stream",
     "text": [
      "Highly engaged products:\n",
      "                                            product_name  engagement\n",
      "1255  Viskey 600 Loom Rubber Bands Bracelet Making C...       825.0\n",
      "9342                         Orchard Toys Shopping List       691.0\n",
      "1931  Temporary Tattoos (5 sheets) - Nitefall(TM) Wo...       652.0\n",
      "1586  Welecom(TM) 100Pcs 10mm 12mm 15mm 18mm 20mm 22...       604.0\n",
      "7297                              Original Stomp Rocket       585.0\n"
     ]
    }
   ],
   "source": [
    "df['number_of_reviews'] = pd.to_numeric(df['number_of_reviews'], errors='coerce')\n",
    "df['number_of_answered_questions'] = pd.to_numeric(df['number_of_answered_questions'], errors='coerce')\n",
    "df['engagement'] = df['number_of_reviews'] + df['number_of_answered_questions']\n",
    "high_engagement_products = df.nlargest(5, 'engagement')[['product_name', 'engagement']]\n",
    "print(\"Highly engaged products:\\n\", high_engagement_products)"
   ]
  },
  {
   "cell_type": "markdown",
   "id": "165c54c2",
   "metadata": {},
   "source": [
    "These products have received a substantial number of reviews and answered questions, indicating a high level of interest and interaction from customers."
   ]
  }
 ],
 "metadata": {
  "kernelspec": {
   "display_name": "Python 3 (ipykernel)",
   "language": "python",
   "name": "python3"
  },
  "language_info": {
   "codemirror_mode": {
    "name": "ipython",
    "version": 3
   },
   "file_extension": ".py",
   "mimetype": "text/x-python",
   "name": "python",
   "nbconvert_exporter": "python",
   "pygments_lexer": "ipython3",
   "version": "3.10.12"
  }
 },
 "nbformat": 4,
 "nbformat_minor": 5
}
